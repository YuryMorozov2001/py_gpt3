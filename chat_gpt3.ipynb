{
 "cells": [
  {
   "cell_type": "code",
   "execution_count": null,
   "metadata": {},
   "outputs": [],
   "source": [
    "#@title Preparing for launch\n",
    "!pip install openai"
   ]
  },
  {
   "cell_type": "code",
   "execution_count": null,
   "metadata": {},
   "outputs": [],
   "source": [
    "#@title Initializing || Resetting the chat\n",
    "chat = ''"
   ]
  },
  {
   "cell_type": "code",
   "execution_count": null,
   "metadata": {},
   "outputs": [],
   "source": [
    "#@title Generate the result\n",
    "import json\n",
    "import openai\n",
    "\n",
    "#@markdown params\n",
    "promt = \"Write your promt\" #@param {type : \"string\"}\n",
    "max_tokens = 3000 #@param {type : \"number\"}\n",
    "openai.api_key = \"\" #@param {type : \"string\"}\n",
    "chat += '\\n\\nyou: ' + promt + '\\n\\nchatbot'\n",
    "response = openai.Completion.create(\n",
    "  model = \"text-davinci-003\",\n",
    "  prompt = chat,\n",
    "  max_tokens = max_tokens,\n",
    ")"
   ]
  },
  {
   "cell_type": "code",
   "execution_count": null,
   "metadata": {},
   "outputs": [],
   "source": [
    "#@title Show the result\n",
    "json_str = json.dumps(response)\n",
    "parsed_obj = json.loads(json_str) \n",
    "answer = parsed_obj['choices'][0]['text']\n",
    "chat += answer\n",
    "print(chat)"
   ]
  }
 ],
 "metadata": {
  "language_info": {
   "name": "python"
  },
  "orig_nbformat": 4
 },
 "nbformat": 4,
 "nbformat_minor": 2
}
